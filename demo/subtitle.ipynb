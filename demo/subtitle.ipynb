{
 "cells": [
  {
   "attachments": {},
   "cell_type": "markdown",
   "metadata": {},
   "source": [
    "通过调用 OpenAI 的 Whisper 模型，将音频文件转换成 srt 格式的字幕文件\n",
    "1. 将本地的视频文件，转换成 .mp3 文件\n",
    "2. 通过调用 whisper 命令，生成字幕文件\n",
    "3. 删除 .mp3 文件\n"
   ]
  },
  {
   "cell_type": "code",
   "execution_count": null,
   "metadata": {},
   "outputs": [],
   "source": [
    "!pip install moviepy\n"
   ]
  },
  {
   "cell_type": "code",
   "execution_count": 1,
   "metadata": {},
   "outputs": [
    {
     "name": "stdout",
     "output_type": "stream",
     "text": [
      "MoviePy - Writing audio in ../.cache/output_audio.mp3\n"
     ]
    },
    {
     "name": "stderr",
     "output_type": "stream",
     "text": [
      "                                                                    \r"
     ]
    },
    {
     "name": "stdout",
     "output_type": "stream",
     "text": [
      "MoviePy - Done.\n"
     ]
    }
   ],
   "source": [
    "from moviepy.editor import *\n",
    "\n",
    "video_path = \"../.cache/file.mp4\"\n",
    "audio_path = \"../.cache/audio.mp3\"\n",
    "subtitles_path = \"../.cache\"\n",
    "\n",
    "# 加载视频\n",
    "video = VideoFileClip(video_path)\n",
    "\n",
    "# 从视频中提取音频\n",
    "audio = video.audio\n",
    "\n",
    "# 保存音频为 MP3 文件\n",
    "audio.write_audiofile(audio_path)\n"
   ]
  },
  {
   "cell_type": "code",
   "execution_count": null,
   "metadata": {},
   "outputs": [],
   "source": [
    "import subprocess\n",
    "import os\n",
    "\n",
    "def convert_audio_to_subtitles(audio_path, subtitles_path):\n",
    "    # 定义命令\n",
    "    command = f\"whisper {audio_path} {subtitles_path} -f srt\"\n",
    "\n",
    "    # 使用 subprocess 运行命令\n",
    "    process = subprocess.Popen(\n",
    "        command, shell=True, stdout=subprocess.PIPE, stderr=subprocess.PIPE)\n",
    "\n",
    "    # 等待命令执行完成\n",
    "    stdout, stderr = process.communicate()\n",
    "\n",
    "    if process.returncode == 0:\n",
    "        print(\"字幕文件已成功生成\")\n",
    "        os.remove(audio_path)\n",
    "    else:\n",
    "        print(f\"错误: {stderr.decode('utf-8')}\")\n",
    "\n",
    "convert_audio_to_subtitles(audio_path, subtitles_path)\n"
   ]
  },
  {
   "attachments": {},
   "cell_type": "markdown",
   "metadata": {},
   "source": []
  }
 ],
 "metadata": {
  "kernelspec": {
   "display_name": "base",
   "language": "python",
   "name": "python3"
  },
  "language_info": {
   "codemirror_mode": {
    "name": "ipython",
    "version": 3
   },
   "file_extension": ".py",
   "mimetype": "text/x-python",
   "name": "python",
   "nbconvert_exporter": "python",
   "pygments_lexer": "ipython3",
   "version": "3.10.9"
  },
  "orig_nbformat": 4
 },
 "nbformat": 4,
 "nbformat_minor": 2
}
